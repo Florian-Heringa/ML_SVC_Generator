{
 "cells": [
  {
   "cell_type": "code",
   "execution_count": 1,
   "metadata": {},
   "outputs": [],
   "source": [
    "from sklearn.model_selection import train_test_split\n",
    "from sklearn.preprocessing import StandardScaler\n",
    "from sklearn.svm import SVC\n",
    "import numpy as np\n",
    "from numpy.random import uniform as uf\n",
    "import matplotlib.pyplot as plt\n",
    "#?matplotlib inline\n",
    "import pandas as pd\n",
    "import seaborn as sns\n",
    "from skl2onnx import convert_sklearn, to_onnx\n",
    "from skl2onnx.common.data_types import FloatTensorType\n",
    "import os\n",
    "from datetime import datetime\n",
    "from matplotlib import rcParams\n",
    "from matplotlib.transforms import Bbox\n",
    "\n",
    "rcParams['savefig.bbox'] = 'tight'"
   ]
  },
  {
   "cell_type": "code",
   "execution_count": 2,
   "metadata": {},
   "outputs": [],
   "source": [
    "def gen_datacloud(x0, y0, radius, N):\n",
    "\n",
    "    r = radius * np.random.rand(N)\n",
    "    theta = 360.0 * np.random.rand(N)\n",
    "\n",
    "    x = r * np.sin(theta)\n",
    "    y = r * np.cos(theta)\n",
    "\n",
    "    x += x0\n",
    "    y += y0\n",
    "\n",
    "    return x, y"
   ]
  },
  {
   "cell_type": "code",
   "execution_count": 3,
   "metadata": {},
   "outputs": [],
   "source": [
    "def gen_dataset(N, rMax, numClouds):\n",
    "\n",
    "    xs = np.array([])\n",
    "    ys = np.array([])\n",
    "    cls = np.array([])\n",
    "\n",
    "    params = []\n",
    "\n",
    "    for n in range(numClouds):\n",
    "        x0 = uf(low=-10, high=10)\n",
    "        y0 = uf(low=-10, high=10)\n",
    "        r  = uf(low=1, high=rMax)\n",
    "\n",
    "        params.append([x0, y0, r])\n",
    "\n",
    "        x, y = gen_datacloud(x0, y0, r, N)\n",
    "        cl = np.empty(N, dtype=int)\n",
    "        cl.fill(n)\n",
    "\n",
    "        xs = np.concatenate((xs, x))\n",
    "        ys = np.concatenate((ys, y))\n",
    "        cls = np.concatenate((cls, cl))\n",
    "\n",
    "    df = pd.DataFrame(np.hstack((cls[:,None], xs[:,None], ys[:,None])))\n",
    "    df.columns = ['class', 'x', 'y']\n",
    "    \n",
    "    return df, params"
   ]
  },
  {
   "cell_type": "code",
   "execution_count": 4,
   "metadata": {},
   "outputs": [],
   "source": [
    "def do_training(clf, df):\n",
    "\n",
    "    df_sampled = df.sample(frac=1) #randomise samples\n",
    "\n",
    "    target = df_sampled.pop('class')\n",
    "\n",
    "    X_train, X_test, y_train, y_test = train_test_split(df_sampled, target, test_size=0.33)\n",
    "    #print(X_train.shape, y_train.shape, X_test.shape, y_test.shape)\n",
    "    \n",
    "    clf.fit(X_train, y_train)\n",
    "\n",
    "    score = clf.score(X_test, y_test)\n",
    "\n",
    "    return score, X_train"
   ]
  },
  {
   "cell_type": "code",
   "execution_count": 30,
   "metadata": {},
   "outputs": [],
   "source": [
    "\n",
    "def store_results(clf, df, score, params, kernel, setName=None):\n",
    "\n",
    "    if setName == None:\n",
    "        now = datetime.now()\n",
    "        setName = now.strftime(\"data\\\\%H_%M_%S\")\n",
    "    else:\n",
    "        setName = \"data\\\\\" + setName\n",
    "\n",
    "    if not os.path.exists(setName):\n",
    "        os.mkdir(setName)\n",
    "\n",
    "    # Save image for reference\n",
    "    fig, ax = plt.subplots(figsize=(5,5))\n",
    "    ax.set_xlim(-15, 15)\n",
    "    ax.set_ylim(-15, 15)\n",
    "    ax.set_xticks(())\n",
    "    ax.set_yticks(())\n",
    "    ax.set_aspect('equal')\n",
    "    \n",
    "    df_fig = df.plot(kind='scatter', ax=ax, x='x', y='y', c='class', colormap='viridis', colorbar=False).get_figure()\n",
    "    plt.axis('off')\n",
    "    df_fig.savefig(f\"{setName}\\\\vis.png\", pad_inches=0)\n",
    "\n",
    "    # Export ONNX model\n",
    "    initial_type = [('float_input', FloatTensorType([None, 2]))]\n",
    "    onx = convert_sklearn(clf, initial_types=initial_type, verbose=False, target_opset={'': 9, 'ai.onnx.ml': 1})\n",
    "    #onx = to_onnx(clf, X=X_train, verbose=True)\n",
    "    \n",
    "    with open(f\"{setName}\\\\model.onnx\", \"wb\") as f:\n",
    "        f.write(onx.SerializeToString())\n",
    "\n",
    "    # Export original data parameters as csv\n",
    "    with open(f\"{setName}\\\\model_params.csv\", \"w\") as f:\n",
    "        f.write(\"x_center, y_center, r\\n\")\n",
    "        for line in range(len(params)):\n",
    "            f.write(\",\".join(map(str, params[line])))\n",
    "            f.write(\"\\n\")\n",
    "\n",
    "    with open(f\"{setName}\\\\score.txt\", \"w\") as f:\n",
    "        f.write(f\"Score: {str(score)}\\n\")\n",
    "        f.write(f\"Kernel:{kernel}\\n\")\n",
    "        f.write(f\"NumBlobs:{len(params)}\")\n",
    "\n",
    "\n",
    "    ## Plot the classifier result\n",
    "    xx, yy = np.meshgrid(np.arange(-15, 15, 0.1),\n",
    "                     np.arange(-15, 15, 0.1))\n",
    "    Z = clf.predict(np.c_[xx.ravel(), yy.ravel()])\n",
    "\n",
    "    Z = Z.reshape(xx.shape)\n",
    "\n",
    "    fig, ax = plt.subplots(figsize=(5,5))\n",
    "    \n",
    "    ax.contourf(xx, yy, Z, cmap=plt.cm.coolwarm, alpha=0.5)\n",
    "\n",
    "    ax.scatter(df['x'], df['y'], c=df['class'], cmap=plt.cm.coolwarm)\n",
    "    ax.set_xlabel('X')\n",
    "    ax.set_ylabel('Y')\n",
    "    ax.set_xlim(xx.min(), xx.max())\n",
    "    ax.set_ylim(yy.min(), yy.max())\n",
    "    ax.set_xticks(())\n",
    "    ax.set_yticks(())\n",
    "    ax.set_aspect('equal')\n",
    "    plt.axis('off')\n",
    "    fig.savefig(f\"{setName}\\\\predicions.png\", pad_inches=0)\n",
    "\n",
    "    return onx"
   ]
  },
  {
   "cell_type": "code",
   "execution_count": 63,
   "metadata": {},
   "outputs": [],
   "source": [
    "numClouds = 8\n",
    "df, params = gen_dataset(N=1000, rMax=5, numClouds=numClouds)"
   ]
  },
  {
   "cell_type": "code",
   "execution_count": 64,
   "metadata": {},
   "outputs": [
    {
     "data": {
      "image/png": "[encoded data removed]",
      "text/plain": [
       "<Figure size 360x360 with 1 Axes>"
      ]
     },
     "metadata": {},
     "output_type": "display_data"
    },
    {
     "data": {
      "image/png": "[encoded data removed]",
      "text/plain": [
       "<Figure size 360x360 with 1 Axes>"
      ]
     },
     "metadata": {},
     "output_type": "display_data"
    }
   ],
   "source": [
    "kernel = 'rbf' # [linear, rbf, poly, sigmoid, precomputed]\n",
    "degree = 1\n",
    "\n",
    "clf = SVC(kernel=kernel, degree=degree, decision_function_shape='ovo' if numClouds > 2 else 'ovr')\n",
    "\n",
    "df.columns = ['class', 'x', 'y']\n",
    "df.head()\n",
    "\n",
    "score, X_train = do_training(clf, df)\n",
    "onx = store_results(clf, df, score, params, kernel, setName=f'{numClouds}_{kernel}')"
   ]
  },
  {
   "cell_type": "code",
   "execution_count": null,
   "metadata": {},
   "outputs": [],
   "source": [
    "print(onx)"
   ]
  },
  {
   "cell_type": "code",
   "execution_count": null,
   "metadata": {},
   "outputs": [],
   "source": []
  }
 ],
 "metadata": {
  "kernelspec": {
   "display_name": "Python 3.6.13 ('cmlp')",
   "language": "python",
   "name": "python3"
  },
  "language_info": {
   "codemirror_mode": {
    "name": "ipython",
    "version": 3
   },
   "file_extension": ".py",
   "mimetype": "text/x-python",
   "name": "python",
   "nbconvert_exporter": "python",
   "pygments_lexer": "ipython3",
   "version": "3.6.13"
  },
  "orig_nbformat": 4,
  "vscode": {
   "interpreter": {
    "hash": "c387e16076927db420a1d18d9485e2477f276f9a6d6547c928342c532fb463c8"
   }
  }
 },
 "nbformat": 4,
 "nbformat_minor": 2
}
