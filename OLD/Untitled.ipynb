{
 "cells": [
  {
   "cell_type": "code",
   "execution_count": 1,
   "id": "7bed1ecf",
   "metadata": {},
   "outputs": [],
   "source": [
    "from sklearn.model_selection import train_test_split\n",
    "from sklearn.preprocessing import StandardScaler\n",
    "from sklearn.svm import SVC"
   ]
  },
  {
   "cell_type": "code",
   "execution_count": 2,
   "id": "86505ad1",
   "metadata": {},
   "outputs": [],
   "source": [
    "import numpy as np\n",
    "from numpy.random import uniform as uf\n",
    "import matplotlib.pyplot as plt\n",
    "#?matplotlib inline\n",
    "import pandas as pd\n",
    "import seaborn as sns"
   ]
  },
  {
   "cell_type": "code",
   "execution_count": 3,
   "id": "61c66d6e",
   "metadata": {},
   "outputs": [],
   "source": [
    "from skl2onnx import convert_sklearn\n",
    "from skl2onnx.common.data_types import FloatTensorType"
   ]
  },
  {
   "cell_type": "code",
   "execution_count": 4,
   "id": "ba3399c3",
   "metadata": {},
   "outputs": [],
   "source": [
    "def gen_datacloud(x0, y0, radius, N):\n",
    "\n",
    "    r = radius * np.random.rand(N)\n",
    "    theta = 360.0 * np.random.rand(N)\n",
    "\n",
    "    x = r * np.sin(theta)\n",
    "    y = r * np.cos(theta)\n",
    "\n",
    "    x += x0\n",
    "    y += y0\n",
    "\n",
    "    return x, y"
   ]
  },
  {
   "cell_type": "code",
   "execution_count": 5,
   "id": "f0842bcc",
   "metadata": {},
   "outputs": [],
   "source": [
    "N = 1000\n",
    "rMax = 10\n",
    "\n",
    "p1 = [uf(low=-3, high=10), uf(low=-3, high=10), uf(low=1, high=rMax)]\n",
    "\n",
    "x1, y1 = gen_datacloud(p1[0], p1[1], p1[2], N)\n",
    "cl1 = np.zeros(x1.shape)\n",
    "\n",
    "p2 = [uf(low=-10, high=3), uf(low=-10, high=3), uf(low=1, high=rMax)]\n",
    "\n",
    "x2, y2 = gen_datacloud(p2[0], p2[1], p2[2], N)\n",
    "cl2 = np.ones(x2.shape)\n",
    "\n",
    "xs = np.concatenate((x1, x2))\n",
    "ys = np.concatenate((y1, y2))\n",
    "cl = np.concatenate((cl1, cl2))\n",
    "\n",
    "data = np.hstack((cl[:,None], xs[:,None], ys[:,None]))"
   ]
  },
  {
   "cell_type": "code",
   "execution_count": 6,
   "id": "269af6cc",
   "metadata": {},
   "outputs": [
    {
     "data": {
      "text/plain": [
       "((2000,), (2000,), (2000,))"
      ]
     },
     "execution_count": 6,
     "metadata": {},
     "output_type": "execute_result"
    }
   ],
   "source": [
    "xs.shape, ys.shape, cl.shape"
   ]
  },
  {
   "cell_type": "code",
   "execution_count": 7,
   "id": "18f7b785",
   "metadata": {},
   "outputs": [
    {
     "data": {
      "text/plain": [
       "(2000, 3)"
      ]
     },
     "execution_count": 7,
     "metadata": {},
     "output_type": "execute_result"
    }
   ],
   "source": [
    "data.shape"
   ]
  },
  {
   "cell_type": "code",
   "execution_count": 8,
   "id": "5c6326e3",
   "metadata": {},
   "outputs": [
    {
     "data": {
      "text/html": [
       "<div>\n",
       "<style scoped>\n",
       "    .dataframe tbody tr th:only-of-type {\n",
       "        vertical-align: middle;\n",
       "    }\n",
       "\n",
       "    .dataframe tbody tr th {\n",
       "        vertical-align: top;\n",
       "    }\n",
       "\n",
       "    .dataframe thead th {\n",
       "        text-align: right;\n",
       "    }\n",
       "</style>\n",
       "<table border=\"1\" class=\"dataframe\">\n",
       "  <thead>\n",
       "    <tr style=\"text-align: right;\">\n",
       "      <th></th>\n",
       "      <th>class</th>\n",
       "      <th>x</th>\n",
       "      <th>y</th>\n",
       "    </tr>\n",
       "  </thead>\n",
       "  <tbody>\n",
       "    <tr>\n",
       "      <th>0</th>\n",
       "      <td>0</td>\n",
       "      <td>4.689284</td>\n",
       "      <td>-2.007476</td>\n",
       "    </tr>\n",
       "    <tr>\n",
       "      <th>1</th>\n",
       "      <td>0</td>\n",
       "      <td>4.044300</td>\n",
       "      <td>-2.667337</td>\n",
       "    </tr>\n",
       "    <tr>\n",
       "      <th>2</th>\n",
       "      <td>0</td>\n",
       "      <td>1.881161</td>\n",
       "      <td>1.901214</td>\n",
       "    </tr>\n",
       "    <tr>\n",
       "      <th>3</th>\n",
       "      <td>0</td>\n",
       "      <td>6.629235</td>\n",
       "      <td>-1.756120</td>\n",
       "    </tr>\n",
       "    <tr>\n",
       "      <th>4</th>\n",
       "      <td>0</td>\n",
       "      <td>2.588176</td>\n",
       "      <td>0.120033</td>\n",
       "    </tr>\n",
       "  </tbody>\n",
       "</table>\n",
       "</div>"
      ],
      "text/plain": [
       "   class         x         y\n",
       "0      0  4.689284 -2.007476\n",
       "1      0  4.044300 -2.667337\n",
       "2      0  1.881161  1.901214\n",
       "3      0  6.629235 -1.756120\n",
       "4      0  2.588176  0.120033"
      ]
     },
     "execution_count": 8,
     "metadata": {},
     "output_type": "execute_result"
    }
   ],
   "source": [
    "df = pd.DataFrame(data)\n",
    "df.columns = ['class', 'x', 'y']\n",
    "df = df.astype({'class': int})\n",
    "\n",
    "df.head()"
   ]
  },
  {
   "cell_type": "code",
   "execution_count": 9,
   "id": "1d3a6450",
   "metadata": {},
   "outputs": [
    {
     "data": {
      "text/plain": [
       "<AxesSubplot:xlabel='x', ylabel='y'>"
      ]
     },
     "execution_count": 9,
     "metadata": {},
     "output_type": "execute_result"
    },
    {
     "data": {
      "image/png": "[encoded data removed]",
      "text/plain": [
       "<Figure size 432x288 with 1 Axes>"
      ]
     },
     "metadata": {
      "needs_background": "light"
     },
     "output_type": "display_data"
    }
   ],
   "source": [
    "fig, ax = plt.subplots(1, 1)\n",
    "ax.set_xlim(-10-rMax, 10+rMax)\n",
    "ax.set_ylim(-10-rMax, 10+rMax)\n",
    "ax.set_aspect('equal')\n",
    "df.plot(kind='scatter', x='x', y='y', ax = ax)"
   ]
  },
  {
   "cell_type": "code",
   "execution_count": 10,
   "id": "4e7da706",
   "metadata": {},
   "outputs": [],
   "source": [
    "df = df.sample(frac=1) #randomise samples"
   ]
  },
  {
   "cell_type": "code",
   "execution_count": 11,
   "id": "04108126",
   "metadata": {},
   "outputs": [],
   "source": [
    "clf = SVC(kernel='linear')"
   ]
  },
  {
   "cell_type": "code",
   "execution_count": 12,
   "id": "c57af115",
   "metadata": {},
   "outputs": [
    {
     "data": {
      "text/plain": [
       "1483    1\n",
       "233     0\n",
       "1334    1\n",
       "1077    1\n",
       "424     0\n",
       "       ..\n",
       "1156    1\n",
       "353     0\n",
       "1011    1\n",
       "198     0\n",
       "1403    1\n",
       "Name: class, Length: 2000, dtype: int32"
      ]
     },
     "execution_count": 12,
     "metadata": {},
     "output_type": "execute_result"
    }
   ],
   "source": [
    "target = df.pop('class')\n",
    "target"
   ]
  },
  {
   "cell_type": "code",
   "execution_count": 13,
   "id": "1472b08f",
   "metadata": {},
   "outputs": [],
   "source": [
    "X_train, X_test, y_train, y_test = train_test_split(df, target, test_size=0.33)"
   ]
  },
  {
   "cell_type": "code",
   "execution_count": 14,
   "id": "51768f4e",
   "metadata": {},
   "outputs": [
    {
     "data": {
      "text/plain": [
       "((1340, 2), (1340,), (660, 2), (660,))"
      ]
     },
     "execution_count": 14,
     "metadata": {},
     "output_type": "execute_result"
    }
   ],
   "source": [
    "X_train.shape, y_train.shape, X_test.shape, y_test.shape"
   ]
  },
  {
   "cell_type": "code",
   "execution_count": 15,
   "id": "3682e33c",
   "metadata": {},
   "outputs": [
    {
     "data": {
      "text/plain": [
       "SVC(kernel='linear')"
      ]
     },
     "execution_count": 15,
     "metadata": {},
     "output_type": "execute_result"
    }
   ],
   "source": [
    "clf.fit(X_train, y_train)"
   ]
  },
  {
   "cell_type": "code",
   "execution_count": 16,
   "id": "e6cfb4f9",
   "metadata": {},
   "outputs": [
    {
     "data": {
      "text/plain": [
       "0.85"
      ]
     },
     "execution_count": 16,
     "metadata": {},
     "output_type": "execute_result"
    }
   ],
   "source": [
    "score = clf.score(X_test, y_test)\n",
    "score"
   ]
  },
  {
   "cell_type": "code",
   "execution_count": 18,
   "id": "a0a7bb9d",
   "metadata": {},
   "outputs": [],
   "source": [
    "import os\n",
    "\n",
    "setName = \"x\"\n",
    "\n",
    "os.mkdir(setName)"
   ]
  },
  {
   "cell_type": "code",
   "execution_count": 19,
   "id": "13181a3a",
   "metadata": {},
   "outputs": [
    {
     "data": {
      "image/png": "[encoded data removed]",
      "text/plain": [
       "<Figure size 432x288 with 1 Axes>"
      ]
     },
     "metadata": {
      "needs_background": "light"
     },
     "output_type": "display_data"
    }
   ],
   "source": [
    "fig, ax = plt.subplots()\n",
    "\n",
    "ax.set_xlim(-10-rMax, 10+rMax)\n",
    "ax.set_ylim(-10-rMax, 10+rMax)\n",
    "ax.set_aspect('equal')\n",
    "\n",
    "X_train.plot(kind='scatter', x='x', y='y', ax = ax, color='r', label='train')\n",
    "X_test.plot(kind='scatter', x='x', y='y', ax = ax, color='k', label='test')\n",
    "\n",
    "plt.legend()\n",
    "\n",
    "plt.savefig(f'{setName}\\\\vis.png')"
   ]
  },
  {
   "cell_type": "code",
   "execution_count": 20,
   "id": "ffb1c149",
   "metadata": {},
   "outputs": [
    {
     "name": "stdout",
     "output_type": "stream",
     "text": [
      "[convert_sklearn] parse_sklearn_model\n",
      "[convert_sklearn] convert_topology\n",
      "[convert_operators] begin\n",
      "[convert_operators] iteration 1 - n_vars=0 n_ops=1\n",
      "[call_converter] call converter for 'SklearnSVC'.\n",
      "[convert_operators] end iter: 1 - n_vars=4\n",
      "[convert_operators] iteration 2 - n_vars=4 n_ops=1\n",
      "[convert_operators] end iter: 2 - n_vars=4\n",
      "[convert_operators] end.\n",
      "[_update_domain_version] +opset 0: name='', version=9\n",
      "[_update_domain_version] +opset 1: name='ai.onnx.ml', version=1\n",
      "[convert_sklearn] end\n"
     ]
    }
   ],
   "source": [
    "initial_type = [('float_input', FloatTensorType([None, 2]))]\n",
    "onx = convert_sklearn(clf, initial_types=initial_type, verbose=True)"
   ]
  },
  {
   "cell_type": "code",
   "execution_count": null,
   "id": "85f7e6b2",
   "metadata": {},
   "outputs": [],
   "source": [
    "with open(f\"{setName}\\\\svc_clouds.onnx\", \"wb\") as f:\n",
    "    f.write(onx.SerializeToString())"
   ]
  },
  {
   "cell_type": "code",
   "execution_count": null,
   "id": "19d9c92a",
   "metadata": {},
   "outputs": [],
   "source": [
    "with open(f\"{setName}\\\\svc_clouds_score={score:.4f}.csv\", \"w\") as f:\n",
    "    f.write(\"x_center, y_center, r\\n\")\n",
    "    f.write(str(p1)[1:-2] + \"\\n\")\n",
    "    f.write(str(p2)[1:-2])"
   ]
  },
  {
   "cell_type": "code",
   "execution_count": null,
   "id": "439e001e",
   "metadata": {},
   "outputs": [],
   "source": []
  },
  {
   "cell_type": "code",
   "execution_count": null,
   "id": "ae5ce122",
   "metadata": {},
   "outputs": [],
   "source": []
  }
 ],
 "metadata": {
  "kernelspec": {
   "display_name": "Python 3.6.13 ('cmlp')",
   "language": "python",
   "name": "python3"
  },
  "language_info": {
   "codemirror_mode": {
    "name": "ipython",
    "version": 3
   },
   "file_extension": ".py",
   "mimetype": "text/x-python",
   "name": "python",
   "nbconvert_exporter": "python",
   "pygments_lexer": "ipython3",
   "version": "3.6.13"
  },
  "vscode": {
   "interpreter": {
    "hash": "c387e16076927db420a1d18d9485e2477f276f9a6d6547c928342c532fb463c8"
   }
  }
 },
 "nbformat": 4,
 "nbformat_minor": 5
}
